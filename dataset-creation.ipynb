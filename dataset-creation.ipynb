{
 "cells": [
  {
   "cell_type": "markdown",
   "id": "fe5db3c4",
   "metadata": {},
   "source": [
    "### Task 1: Access Movie Info Box"
   ]
  },
  {
   "cell_type": "markdown",
   "id": "8eef4ea2",
   "metadata": {},
   "source": [
    "#### Import Libraries"
   ]
  },
  {
   "cell_type": "code",
   "execution_count": 29,
   "id": "10dc9b3c",
   "metadata": {},
   "outputs": [],
   "source": [
    "from bs4 import BeautifulSoup as bs\n",
    "import requests"
   ]
  },
  {
   "cell_type": "markdown",
   "id": "600d88ce",
   "metadata": {},
   "source": [
    "#### Load the webpage"
   ]
  },
  {
   "cell_type": "code",
   "execution_count": 39,
   "id": "919e9687",
   "metadata": {},
   "outputs": [],
   "source": [
    "r = requests.get(\"https://en.wikipedia.org/wiki/Toy_Story_3\")\n",
    "\n",
    "# Convert to beautiful soup object\n",
    "soup = bs(r.content)\n",
    "\n",
    "# Print out the HTML\n",
    "contents = soup.prettify() # prettify() gives indented HTML syntax"
   ]
  },
  {
   "cell_type": "code",
   "execution_count": 40,
   "id": "20101c4a",
   "metadata": {
    "scrolled": true
   },
   "outputs": [],
   "source": [
    "info_box = soup.find(class_=\"infobox vevent\") # Grabs info box from table name\n",
    "info_rows = info_box.find_all(\"tr\")\n",
    "#for row in info_rows:\n",
    "    #print(row.prettify())"
   ]
  },
  {
   "cell_type": "markdown",
   "id": "b13068ad",
   "metadata": {},
   "source": [
    "The key for the python dictionary is from the table head. The value is from the table data"
   ]
  },
  {
   "cell_type": "code",
   "execution_count": 41,
   "id": "0ecf55ba",
   "metadata": {},
   "outputs": [
    {
     "data": {
      "text/plain": [
       "{'Title': 'Toy Story 3',\n",
       " 'Directed by': 'Lee Unkrich',\n",
       " 'Screenplay by': 'Michael Arndt',\n",
       " 'Story by': ['John Lasseter', 'Andrew Stanton', 'Lee Unkrich'],\n",
       " 'Produced by': 'Darla K. Anderson',\n",
       " 'Starring': ['Tom Hanks',\n",
       "  'Tim Allen',\n",
       "  'Joan Cusack',\n",
       "  'Don Rickles',\n",
       "  'Wallace Shawn',\n",
       "  'John Ratzenberger',\n",
       "  'Estelle Harris',\n",
       "  'Ned Beatty',\n",
       "  'Michael Keaton',\n",
       "  'Jodi Benson',\n",
       "  'John Morris'],\n",
       " 'Cinematography': ['Jeremy Lasky', 'Kim White'],\n",
       " 'Edited by': 'Ken Schretzmann',\n",
       " 'Music by': 'Randy Newman',\n",
       " 'Production companies': ['Walt Disney Pictures', 'Pixar Animation Studios'],\n",
       " 'Distributed by': 'Walt Disney Studios Motion Pictures',\n",
       " 'Release dates': ['June 12, 2010 ( 2010-06-12 ) ( Taormina Film Fest )',\n",
       "  'June 18, 2010 ( 2010-06-18 ) (United States)'],\n",
       " 'Running time': '103 minutes [1]',\n",
       " 'Country': 'United States',\n",
       " 'Language': 'English',\n",
       " 'Budget': '$200 million [1]',\n",
       " 'Box office': '$1.067 billion [1]'}"
      ]
     },
     "execution_count": 41,
     "metadata": {},
     "output_type": "execute_result"
    }
   ],
   "source": [
    "def get_content_value(row_data):\n",
    "    if row.find(\"li\"):\n",
    "        return [li.get_text(\" \", strip = True).replace(\"\\xa0\", \" \") for li in row.find_all(\"li\")]\n",
    "    else:\n",
    "        return row_data.get_text(\" \", strip = True).replace(\"\\xa0\", \" \")\n",
    "    \n",
    "movie_info = {} # blank dictionary\n",
    "\n",
    "for index, row in enumerate(info_rows):\n",
    "    if index == 0: # Title row\n",
    "        movie_info[\"Title\"] = row.find(\"th\").get_text(\" \", strip = True)\n",
    "    elif index == 1: # Picture Row\n",
    "        continue\n",
    "    else:\n",
    "        content_key = row.find(\"th\").get_text(\" \", strip = True)\n",
    "        content_value = get_content_value(row.find(\"td\"))\n",
    "        movie_info[content_key] = content_value\n",
    "\n",
    "movie_info"
   ]
  },
  {
   "cell_type": "markdown",
   "id": "3c647598",
   "metadata": {},
   "source": [
    "### Task 2: Access info box for all movies"
   ]
  },
  {
   "cell_type": "code",
   "execution_count": 42,
   "id": "135a300d",
   "metadata": {},
   "outputs": [],
   "source": [
    "r = requests.get(\"https://en.wikipedia.org/wiki/List_of_Walt_Disney_Pictures_films\")\n",
    "\n",
    "# Convert to beautiful soup object\n",
    "soup = bs(r.content)\n",
    "\n",
    "# Print out the HTML\n",
    "contents = soup.prettify() # prettify() gives indented HTML syntax\n",
    "#print(contents)"
   ]
  },
  {
   "cell_type": "code",
   "execution_count": 43,
   "id": "4abc0525",
   "metadata": {},
   "outputs": [],
   "source": [
    "def get_content_value(row_data):\n",
    "    if row_data.find(\"li\"):\n",
    "        return [li.get_text(\" \", strip = True).replace(\"\\xa0\", \" \") for li in row_data.find_all(\"li\")]\n",
    "    elif row_data.find(\"br\"): # \"br\", break tag found under \"Starring\" column doesnt return list\n",
    "        return [text for text in row_data.stripped_strings] # stripped_strings keeps elements apart\n",
    "    else:\n",
    "        return row_data.get_text(\" \", strip = True).replace(\"\\xa0\", \" \")\n",
    "\n",
    "def clean_tags(soup): #clean up references [1], [2] and YY-MM-DD, found under HTML <sup> and <span>\n",
    "    for tag in soup.find_all([\"sup\", \"span\"]):\n",
    "        tag.decompose()\n",
    "        \n",
    "def get_info_box(url):\n",
    "    \n",
    "    r = requests.get(url)\n",
    "    soup = bs(r.content)\n",
    "    info_box = soup.find(class_=\"infobox vevent\") # Grabs info box from table name\n",
    "    info_rows = info_box.find_all(\"tr\")\n",
    "    \n",
    "    clean_tags(soup) \n",
    "    \n",
    "    movie_info = {} # blank dictionary\n",
    "    for index, row in enumerate(info_rows):\n",
    "        if index == 0: # Title row\n",
    "            movie_info[\"Title\"] = row.find(\"th\").get_text(\" \", strip = True)\n",
    "        else:\n",
    "            header = row.find('th') # Check if table header exists\n",
    "            if header:\n",
    "                content_key = row.find(\"th\").get_text(\" \", strip = True)\n",
    "                content_value = get_content_value(row.find(\"td\"))\n",
    "                movie_info[content_key] = content_value\n",
    "    return movie_info"
   ]
  },
  {
   "cell_type": "code",
   "execution_count": 44,
   "id": "1a62626e",
   "metadata": {},
   "outputs": [
    {
     "data": {
      "text/plain": [
       "{'Title': 'Blank Check',\n",
       " 'Directed by': 'Rupert Wainwright',\n",
       " 'Written by': ['Colby Carr', 'Blake Snyder'],\n",
       " 'Produced by': ['Tony Shimkin', 'Gary Adelson', 'Craig Baumgarten'],\n",
       " 'Starring': ['Karen Duffy',\n",
       "  'Brian Bonsall',\n",
       "  'Miguel Ferrer',\n",
       "  'James Rebhorn',\n",
       "  'Tone Lōc',\n",
       "  'Jayne Atkinson',\n",
       "  'Michael Lerner'],\n",
       " 'Cinematography': 'Bill Pope',\n",
       " 'Edited by': ['Jill Savitt', 'Hubert de la Bouillerie'],\n",
       " 'Music by': 'Nicholas Pike',\n",
       " 'Production company': 'Walt Disney Pictures',\n",
       " 'Distributed by': 'Buena Vista Pictures Distribution',\n",
       " 'Release date': ['February 11, 1994'],\n",
       " 'Running time': '94 minutes',\n",
       " 'Country': 'United States',\n",
       " 'Language': 'English',\n",
       " 'Budget': '$13 million',\n",
       " 'Box office': '$39 million'}"
      ]
     },
     "execution_count": 44,
     "metadata": {},
     "output_type": "execute_result"
    }
   ],
   "source": [
    "get_info_box(\"https://en.wikipedia.org/wiki/Blank_Check_(film)\")"
   ]
  },
  {
   "cell_type": "code",
   "execution_count": 49,
   "id": "1c818d4e",
   "metadata": {},
   "outputs": [
    {
     "name": "stdout",
     "output_type": "stream",
     "text": [
      "0\n",
      "10\n",
      "20\n",
      "30\n",
      "40\n",
      "Zorro the Avenger\n",
      "'NoneType' object has no attribute 'find'\n",
      "The Sign of Zorro\n",
      "'NoneType' object has no attribute 'find'\n",
      "50\n",
      "60\n",
      "70\n",
      "80\n",
      "90\n",
      "100\n",
      "110\n",
      "120\n",
      "130\n",
      "140\n",
      "150\n",
      "160\n",
      "170\n",
      "180\n",
      "190\n",
      "200\n",
      "210\n",
      "220\n",
      "Mighty Ducks the Movie: The First Face-Off\n",
      "'NoneType' object has no attribute 'find'\n",
      "230\n",
      "240\n",
      "250\n",
      "260\n",
      "270\n",
      "Spirited Away\n",
      "'NoneType' object has no attribute 'find'\n",
      "280\n",
      "290\n",
      "300\n",
      "310\n",
      "Howl's Moving Castle\n",
      "'NoneType' object has no attribute 'find'\n",
      "320\n",
      "330\n",
      "340\n",
      "350\n",
      "360\n",
      "370\n",
      "Ponyo\n",
      "'NoneType' object has no attribute 'find'\n",
      "380\n",
      "Tales from Earthsea\n",
      "'NoneType' object has no attribute 'find'\n",
      "390\n",
      "400\n",
      "The Secret World of Arrietty\n",
      "'NoneType' object has no attribute 'find'\n",
      "410\n",
      "420\n",
      "430\n",
      "440\n",
      "450\n",
      "460\n",
      "470\n",
      "480\n",
      "490\n",
      "500\n",
      "The Beatles: Get Back – The Rooftop Concert\n",
      "'NoneType' object has no attribute 'find'\n",
      "510\n",
      "520\n",
      "Elio\n",
      "'NoneType' object has no attribute 'find_all'\n",
      "530\n",
      "61\n",
      "'NoneType' object has no attribute 'find_all'\n",
      "All Night Long\n",
      "'NoneType' object has no attribute 'find'\n",
      "Big Thunder Mountain Railroad\n",
      "'NoneType' object has no attribute 'find_all'\n",
      "540\n",
      "Keeper of the Lost Cities\n",
      "'NoneType' object has no attribute 'find_all'\n",
      "Muppet Man\n",
      "'NoneType' object has no attribute 'find_all'\n",
      "One Thousand and One Nights\n",
      "'NoneType' object has no attribute 'find_all'\n",
      "Shrunk\n",
      "'NoneType' object has no attribute 'find'\n",
      "Sister Act 3\n",
      "'NoneType' object has no attribute 'find'\n",
      "550\n",
      "Space Mountain\n",
      "'NoneType' object has no attribute 'find_all'\n",
      "The Graveyard Book\n",
      "'NoneType' object has no attribute 'find_all'\n",
      "The Thief\n",
      "'NoneType' object has no attribute 'find_all'\n",
      "Tom Sawyer\n",
      "'NoneType' object has no attribute 'find_all'\n",
      "560\n",
      "Tower of Terror\n",
      "'NoneType' object has no attribute 'find_all'\n",
      "Tron: Ares\n",
      "'NoneType' object has no attribute 'find'\n",
      "Toy Story\n",
      "'NoneType' object has no attribute 'find'\n",
      "Figment\n",
      "'NoneType' object has no attribute 'find_all'\n",
      "Frozen\n",
      "'NoneType' object has no attribute 'find'\n"
     ]
    }
   ],
   "source": [
    "r = requests.get(\"https://en.wikipedia.org/wiki/List_of_Walt_Disney_Pictures_films\")\n",
    "soup = bs(r.content)\n",
    "movies = soup.select(\".wikitable.sortable i a\")\n",
    "\n",
    "base_path = \"https://en.wikipedia.org\"\n",
    "\n",
    "movie_info_list = []\n",
    "for index, movie in enumerate(movies):\n",
    "    if index%10 == 0:\n",
    "        print(index)\n",
    "    try:\n",
    "        relative_path = movie[\"href\"]\n",
    "        full_path = base_path + relative_path\n",
    "        movie_title = movie[\"title\"]\n",
    "        \n",
    "        movie_info_list.append(get_info_box(full_path))\n",
    "    except Exception as e:\n",
    "        print(movie.get_text())\n",
    "        print(e)"
   ]
  },
  {
   "cell_type": "markdown",
   "id": "e53d1a2c",
   "metadata": {},
   "source": [
    "#### Save/Load Data (Prior to datetime object, Updated: see Pickle Save/Load)"
   ]
  },
  {
   "cell_type": "code",
   "execution_count": 12,
   "id": "a64b5cea",
   "metadata": {},
   "outputs": [],
   "source": [
    "import json\n",
    "\n",
    "def save_data(title, data):\n",
    "    with open(title, 'w', encoding='utf-8') as f:\n",
    "        json.dump(data, f, ensure_ascii=False, indent=2)"
   ]
  },
  {
   "cell_type": "code",
   "execution_count": 50,
   "id": "498fc46b",
   "metadata": {},
   "outputs": [],
   "source": [
    "import json\n",
    "\n",
    "def load_data(title):\n",
    "    with open(title, encoding=\"utf-8\") as f:\n",
    "        return json.load(f)"
   ]
  },
  {
   "cell_type": "code",
   "execution_count": 145,
   "id": "e2caee31",
   "metadata": {},
   "outputs": [],
   "source": [
    "#save_data(\"disney_data_clean.json\", movie_info_list)"
   ]
  },
  {
   "cell_type": "code",
   "execution_count": 51,
   "id": "ed989439",
   "metadata": {},
   "outputs": [],
   "source": [
    "#movie_info_list = load_data(\"disney_data_final/disney_data_final.json\") #if you want to reload data"
   ]
  },
  {
   "cell_type": "markdown",
   "id": "ddf6c0c4",
   "metadata": {},
   "source": [
    "### Task 3: Clean data"
   ]
  },
  {
   "cell_type": "markdown",
   "id": "d677f2b4",
   "metadata": {},
   "source": [
    "#### Subtasks\n",
    "- Clean up embedded references [1] and [2] from Wikipedia\n",
    "- Convert running time into integer\n",
    "- Convert dates into datetime object\n",
    "- Convert monetary strings into numerical values\n",
    "- Split up the long strings (\"Starring\" column is one big string, actors should be in a list)"
   ]
  },
  {
   "cell_type": "markdown",
   "id": "dcdced59",
   "metadata": {},
   "source": [
    "#### Convert \"Running time\" into integer"
   ]
  },
  {
   "cell_type": "code",
   "execution_count": 50,
   "id": "0d5fab3e",
   "metadata": {},
   "outputs": [
    {
     "data": {
      "text/plain": [
       "['83 minutes',\n",
       " '88 minutes',\n",
       " '126 minutes',\n",
       " '74 minutes',\n",
       " '64 minutes',\n",
       " '70 minutes',\n",
       " '42 minutes',\n",
       " '65 min',\n",
       " '71 minutes',\n",
       " '75 minutes']"
      ]
     },
     "execution_count": 50,
     "metadata": {},
     "output_type": "execute_result"
    }
   ],
   "source": [
    "[movie.get('Running time', 'N/A') for movie in movie_info_list][0:10]"
   ]
  },
  {
   "cell_type": "code",
   "execution_count": 51,
   "id": "525ad46b",
   "metadata": {},
   "outputs": [],
   "source": [
    "def minute_to_integer(running_time):\n",
    "    if running_time == \"N/A\": # No running time\n",
    "        return None\n",
    "    if isinstance(running_time, list): # Edge Case: [\"85 minutes\", \"90 minutes\"]\n",
    "        entry = running_time[0]\n",
    "        return int(entry.split(\" \")[0])\n",
    "    else:\n",
    "        return int(running_time.split(\" \")[0])\n",
    "\n",
    "for movie in movie_info_list:\n",
    "    movie[\"Running time(int)\"] = minute_to_integer(movie.get('Running time', 'N/A'))"
   ]
  },
  {
   "cell_type": "markdown",
   "id": "d45e9e09",
   "metadata": {},
   "source": [
    "#### Convert 'Budget' and 'Box office' monetary strings into numerical values"
   ]
  },
  {
   "cell_type": "code",
   "execution_count": 52,
   "id": "0533ebc7",
   "metadata": {},
   "outputs": [
    {
     "data": {
      "text/plain": [
       "['$1.5 million',\n",
       " '$2.6 million',\n",
       " '$2.28 million',\n",
       " '$600,000',\n",
       " '$950,000',\n",
       " '$858,000',\n",
       " 'N/A',\n",
       " '$788,000',\n",
       " 'N/A',\n",
       " '$1.35 million']"
      ]
     },
     "execution_count": 52,
     "metadata": {},
     "output_type": "execute_result"
    }
   ],
   "source": [
    "[movie.get('Budget', 'N/A') for movie in movie_info_list][0:10]"
   ]
  },
  {
   "cell_type": "markdown",
   "id": "682ac60e",
   "metadata": {},
   "source": [
    "#### Function to convert monetary strings into Float"
   ]
  },
  {
   "cell_type": "code",
   "execution_count": 53,
   "id": "b78b510e",
   "metadata": {},
   "outputs": [],
   "source": [
    "import re\n",
    "# Finds digits with pattern ###,###,###.XX\n",
    "number = r\"\\d+(,\\d{3})*\\.*\\d*\" \n",
    "amounts = r\"thousand|million|billion\"\n",
    "\n",
    "value_re = rf\"\\${number}\"\n",
    "word_re = rf\"\\${number}(-|\\sto\\s)?({number})?\\s({amounts})\"\n",
    "\n",
    "def word_to_value(word):\n",
    "    value_dict = {\"thousand\":1000, \"million\": 1000000, \"billion\":1000000000}\n",
    "    return value_dict[word]\n",
    "\n",
    "def parse_word_syntax(string):\n",
    "    value_string = re.search(number, string).group()\n",
    "    value = float(re.sub(\",\", \"\", value_string))\n",
    "    word = re.search(amounts, string, flags=re.I).group().lower() #re.I ignores Million vs million\n",
    "    word_value = word_to_value(word)\n",
    "    return value * word_value\n",
    "\n",
    "\n",
    "def parse_value_syntax(string):\n",
    "    value_string = re.search(number, string).group()\n",
    "    value = float(re.sub(\",\", \"\", value_string)) \t# Strip commas\n",
    "    return value\n",
    "\n",
    "# money_conversion(\"$12.2 million\") --> 12200000 ## Word Syntax\n",
    "# money_conversion(\"$790,000\") --> 790000  ## Value Syntax\n",
    "\n",
    "def money_conversion(money):\n",
    "    if money == \"N/A\":\n",
    "        return None\n",
    "    if isinstance(money,list):\n",
    "        money = money[0]\n",
    "        \n",
    "    value_syntax = re.search(value_re, money, flags=re.I)\n",
    "    word_syntax = re.search(word_re, money)\n",
    "\n",
    "    if word_syntax:\n",
    "        return parse_word_syntax(word_syntax.group())\n",
    "    elif value_syntax:\n",
    "        return parse_value_syntax(value_syntax.group())\n",
    "    else:\n",
    "        return None"
   ]
  },
  {
   "cell_type": "markdown",
   "id": "a994bdcb",
   "metadata": {},
   "source": [
    "#### Create new Column for floats"
   ]
  },
  {
   "cell_type": "code",
   "execution_count": 54,
   "id": "00ba94b7",
   "metadata": {},
   "outputs": [],
   "source": [
    "for movie in movie_info_list:\n",
    "    movie[\"Budget (float)\"] = money_conversion(movie.get('Budget', 'N/A'))\n",
    "    movie[\"Box Office (float)\"] = money_conversion(movie.get('Box office', 'N/A'))"
   ]
  },
  {
   "cell_type": "markdown",
   "id": "ed05b97f",
   "metadata": {},
   "source": [
    "#### Convert Dates into datetime"
   ]
  },
  {
   "cell_type": "markdown",
   "id": "1fd715c8",
   "metadata": {},
   "source": [
    "#### Convert key value 'Release dates' into 'Release date'"
   ]
  },
  {
   "cell_type": "code",
   "execution_count": 55,
   "id": "b690ba13",
   "metadata": {},
   "outputs": [],
   "source": [
    "for movie in movie_info_list:\n",
    "    if 'Release dates' in movie:\n",
    "        movie['Release date'] = movie['Release dates']\n",
    "        del movie['Release dates']"
   ]
  },
  {
   "cell_type": "code",
   "execution_count": 56,
   "id": "8d8933be",
   "metadata": {},
   "outputs": [],
   "source": [
    "# Main format: Month Day, Year (Ex, July 15, 1980)\n",
    "from datetime import datetime\n",
    "\n",
    "\n",
    "#dates = [movie.get('Release date', 'N/A') for movie in movie_info_list]\n",
    "\n",
    "## Step One: Grab first instance of Lists, Remove Parentheses\n",
    "def date_clean(date):\n",
    "    return date.split(\"(\")[0].strip() # Split on '()' and strip whitespace\n",
    "\n",
    "\n",
    "def date_conversion(date):\n",
    "    if isinstance(date,list):\n",
    "        date = date[0]\n",
    "    if date == \"N/A\":\n",
    "        return None\n",
    "    date_str = date_clean(date)\n",
    "    \n",
    "    fmts = [\"%B %d, %Y\", \"%B %Y\", \"%d %B %Y\"]\n",
    "    for fmt in fmts:\n",
    "        try:\n",
    "            return datetime.strptime(date_str, fmt)\n",
    "        except:\n",
    "            pass\n",
    "    return None"
   ]
  },
  {
   "cell_type": "markdown",
   "id": "b3f74d39",
   "metadata": {},
   "source": [
    "#### Create new Column for Datetime"
   ]
  },
  {
   "cell_type": "code",
   "execution_count": 57,
   "id": "a2b1e210",
   "metadata": {},
   "outputs": [],
   "source": [
    "for movie in movie_info_list:\n",
    "    movie[\"Release date (datetime)\"] = date_conversion(movie.get('Release date', 'N/A'))"
   ]
  },
  {
   "cell_type": "markdown",
   "id": "6a9b3f65",
   "metadata": {},
   "source": [
    "Check Data Cleaning"
   ]
  },
  {
   "cell_type": "code",
   "execution_count": 58,
   "id": "e99dab96",
   "metadata": {},
   "outputs": [
    {
     "data": {
      "text/plain": [
       "{'Title': 'Zootopia',\n",
       " 'Directed by': ['Byron Howard', 'Rich Moore'],\n",
       " 'Screenplay by': ['Jared Bush', 'Phil Johnston'],\n",
       " 'Story by': ['Byron Howard',\n",
       "  'Rich Moore',\n",
       "  'Jared Bush',\n",
       "  'Jim Reardon',\n",
       "  'Josie Trinidad',\n",
       "  'Phil Johnston',\n",
       "  'Jennifer Lee'],\n",
       " 'Produced by': 'Clark Spencer',\n",
       " 'Starring': ['Ginnifer Goodwin',\n",
       "  'Jason Bateman',\n",
       "  'Idris Elba',\n",
       "  'Jenny Slate',\n",
       "  'Nate Torrence',\n",
       "  'Bonnie Hunt',\n",
       "  'Don Lake',\n",
       "  'Tommy Chong',\n",
       "  'J. K. Simmons',\n",
       "  'Octavia Spencer',\n",
       "  'Alan Tudyk',\n",
       "  'Shakira'],\n",
       " 'Cinematography': ['Nathan Warner (layout)', 'Brian Leach (lighting)'],\n",
       " 'Edited by': ['Fabienne Rawley', 'Jeremy Milton'],\n",
       " 'Music by': 'Michael Giacchino',\n",
       " 'Production companies': ['Walt Disney Pictures',\n",
       "  'Walt Disney Animation Studios'],\n",
       " 'Distributed by': ['Walt Disney Studios', 'Motion Pictures'],\n",
       " 'Running time': '108 minutes',\n",
       " 'Country': 'United States',\n",
       " 'Language': 'English',\n",
       " 'Budget': '$150 million',\n",
       " 'Box office': '$1.025 billion',\n",
       " 'Running time(int)': 108,\n",
       " 'Budget (float)': 150000000.0,\n",
       " 'Box Office (float)': 1024999999.9999999,\n",
       " 'Release date': ['February 13, 2016 (Belgium)',\n",
       "  'March 4, 2016 (United States)'],\n",
       " 'Release date (datetime)': datetime.datetime(2016, 2, 13, 0, 0)}"
      ]
     },
     "execution_count": 58,
     "metadata": {},
     "output_type": "execute_result"
    }
   ],
   "source": [
    "movie_info_list[-1]"
   ]
  },
  {
   "cell_type": "markdown",
   "id": "40988330",
   "metadata": {},
   "source": [
    "#### Save/Load with Pickle"
   ]
  },
  {
   "cell_type": "code",
   "execution_count": 71,
   "id": "65506498",
   "metadata": {},
   "outputs": [],
   "source": [
    "import pickle\n",
    "\n",
    "def save_data_pickle(name, data):\n",
    "    with open(name, 'wb') as f:\n",
    "        pickle.dump(data, f)"
   ]
  },
  {
   "cell_type": "code",
   "execution_count": 41,
   "id": "4c340b19",
   "metadata": {},
   "outputs": [],
   "source": [
    "import pickle\n",
    "\n",
    "def load_data_pickle(name):\n",
    "    with open(name, 'rb') as f:\n",
    "        return pickle.load(f)"
   ]
  },
  {
   "cell_type": "code",
   "execution_count": 21,
   "id": "217184b6",
   "metadata": {},
   "outputs": [],
   "source": [
    "#save_data_pickle(\"disney_data_final.pickle\", movie_info_list) # Save data with pickle"
   ]
  },
  {
   "cell_type": "code",
   "execution_count": 43,
   "id": "107a05aa",
   "metadata": {},
   "outputs": [],
   "source": [
    "#movie_info_list = load_data_pickle(\"disney_data_final/disney_data_final.pickle\") # Load data with pickle"
   ]
  },
  {
   "cell_type": "markdown",
   "id": "9ec768d9",
   "metadata": {},
   "source": [
    "### Task 4: Attach IMDB/Rotten Tomatoes/Metascore Scores"
   ]
  },
  {
   "cell_type": "markdown",
   "id": "1d856b9b",
   "metadata": {},
   "source": [
    "I will use an API from The Open Movie Database API, http://www.omdbapi.com to access scores."
   ]
  },
  {
   "cell_type": "code",
   "execution_count": null,
   "id": "e34344a3",
   "metadata": {},
   "outputs": [],
   "source": [
    "import requests\n",
    "import urllib # To encode parameters into url\n",
    "import os\n",
    "\n",
    "def get_omdb_info(title):\n",
    "    base_url = \"http://www.omdbapi.com/?\"\n",
    "    parameters = {\"apikey\": os.environ['OMDB_API_KEY'], 't': title}\n",
    "    params_encoded = urllib.parse.urlencode(parameters)\n",
    "    full_url = base_url + params_encoded\n",
    "    return requests.get(full_url).json()\n",
    "\n",
    "def get_rotten_tomato_score(omdb_info):\n",
    "    ratings = omdb_info.get(\"Ratings\",[])\n",
    "    for rating in ratings:\n",
    "        if rating['Source'] == 'Rotten Tomatoes':\n",
    "            return rating['Value']\n",
    "    return None"
   ]
  },
  {
   "cell_type": "code",
   "execution_count": 15,
   "id": "085a36ed",
   "metadata": {},
   "outputs": [],
   "source": [
    "for movie in movie_info_list:\n",
    "    title = movie['Title']\n",
    "    omdb_info = get_omdb_info(title)\n",
    "    get_rotten_tomato_score(omdb_info)\n",
    "    movie['imdb'] = omdb_info.get(\"imdbRating\", None)\n",
    "    movie['Metascore'] = omdb_info.get(\"Metascore\", None)\n",
    "    movie['Rotten_Tomato'] = get_rotten_tomato_score(omdb_info)"
   ]
  },
  {
   "cell_type": "markdown",
   "id": "32832d5c",
   "metadata": {},
   "source": [
    "### Task 5: Remove Junk Columns"
   ]
  },
  {
   "cell_type": "code",
   "execution_count": 61,
   "id": "555cdbf7",
   "metadata": {},
   "outputs": [
    {
     "data": {
      "text/plain": [
       "Title                        0\n",
       "Directed by                  5\n",
       "Story by                   364\n",
       "Based on                   245\n",
       "Produced by                 14\n",
       "Starring                    38\n",
       "Music by                     7\n",
       "Production company         333\n",
       "Distributed by               2\n",
       "Running time                12\n",
       "Country                     69\n",
       "Language                    25\n",
       "Budget                     212\n",
       "Box office                 133\n",
       "Running time(int)           12\n",
       "Budget (float)             218\n",
       "Box Office (float)         142\n",
       "Release date                 4\n",
       "Release date (datetime)      9\n",
       "imdb                        23\n",
       "Metascore                   23\n",
       "Rotten_Tomato              152\n",
       "Narrated by                473\n",
       "Cinematography             136\n",
       "Written by                 317\n",
       "Edited by                   44\n",
       "Languages                  518\n",
       "Screenplay by              273\n",
       "Countries                  478\n",
       "Color process              534\n",
       "Production companies       212\n",
       "Adaptation by              540\n",
       "Traditional Chinese        539\n",
       "Simplified Chinese         539\n",
       "Original title             540\n",
       "Layouts by                 539\n",
       "Music                      539\n",
       "Lyrics                     539\n",
       "Book                       539\n",
       "Basis                      539\n",
       "Productions                539\n",
       "Awards                     539\n",
       "dtype: int64"
      ]
     },
     "execution_count": 61,
     "metadata": {},
     "output_type": "execute_result"
    }
   ],
   "source": [
    "df = pd.DataFrame(movie_info_list)\n",
    "df.isnull().sum()"
   ]
  },
  {
   "cell_type": "code",
   "execution_count": 62,
   "id": "b2a5256a",
   "metadata": {},
   "outputs": [
    {
     "name": "stdout",
     "output_type": "stream",
     "text": [
      "Index(['Story by', 'Based on', 'Production company', 'Narrated by',\n",
      "       'Written by', 'Languages', 'Screenplay by', 'Countries',\n",
      "       'Color process', 'Adaptation by', 'Traditional Chinese',\n",
      "       'Simplified Chinese', 'Original title', 'Layouts by', 'Music', 'Lyrics',\n",
      "       'Book', 'Basis', 'Productions', 'Awards'],\n",
      "      dtype='object')\n"
     ]
    }
   ],
   "source": [
    "missing_values = df.isnull().sum()\n",
    "columns_with_missing_values = missing_values[missing_values > 240].index\n",
    "\n",
    "# Print the column names\n",
    "print(columns_with_missing_values)"
   ]
  },
  {
   "cell_type": "code",
   "execution_count": 63,
   "id": "00022e72",
   "metadata": {},
   "outputs": [],
   "source": [
    "columns_with_missing_values = list(columns_with_missing_values)\n",
    "columns_with_missing_values.extend(['Cinematography', 'Edited by','Production companies'])\n",
    "\n",
    "df = df.drop(columns_with_missing_values, axis=1)"
   ]
  },
  {
   "cell_type": "code",
   "execution_count": 65,
   "id": "96e6ec8e",
   "metadata": {},
   "outputs": [
    {
     "data": {
      "text/html": [
       "<div>\n",
       "<style scoped>\n",
       "    .dataframe tbody tr th:only-of-type {\n",
       "        vertical-align: middle;\n",
       "    }\n",
       "\n",
       "    .dataframe tbody tr th {\n",
       "        vertical-align: top;\n",
       "    }\n",
       "\n",
       "    .dataframe thead th {\n",
       "        text-align: right;\n",
       "    }\n",
       "</style>\n",
       "<table border=\"1\" class=\"dataframe\">\n",
       "  <thead>\n",
       "    <tr style=\"text-align: right;\">\n",
       "      <th></th>\n",
       "      <th>Title</th>\n",
       "      <th>Directed by</th>\n",
       "      <th>Produced by</th>\n",
       "      <th>Starring</th>\n",
       "      <th>Music by</th>\n",
       "      <th>Distributed by</th>\n",
       "      <th>Running time</th>\n",
       "      <th>Country</th>\n",
       "      <th>Language</th>\n",
       "      <th>Budget</th>\n",
       "      <th>Box office</th>\n",
       "      <th>Running time(int)</th>\n",
       "      <th>Budget (float)</th>\n",
       "      <th>Box Office (float)</th>\n",
       "      <th>Release date</th>\n",
       "      <th>Release date (datetime)</th>\n",
       "      <th>imdb</th>\n",
       "      <th>Metascore</th>\n",
       "      <th>Rotten_Tomato</th>\n",
       "    </tr>\n",
       "  </thead>\n",
       "  <tbody>\n",
       "    <tr>\n",
       "      <th>0</th>\n",
       "      <td>Snow White and the Seven Dwarfs</td>\n",
       "      <td>[David Hand, Perce Pearce, William Cottrell, L...</td>\n",
       "      <td>Walt Disney</td>\n",
       "      <td>[Adriana Caselotti, Roy Atwell, Pinto Colvig, ...</td>\n",
       "      <td>[Frank Churchill, Leigh Harline, Paul Smith]</td>\n",
       "      <td>RKO Radio Pictures</td>\n",
       "      <td>83 minutes</td>\n",
       "      <td>United States</td>\n",
       "      <td>English</td>\n",
       "      <td>$1.5 million</td>\n",
       "      <td>$418 million</td>\n",
       "      <td>83.0</td>\n",
       "      <td>1500000.0</td>\n",
       "      <td>418000000.0</td>\n",
       "      <td>[December 21, 1937 ( Carthay Circle Theatre ),...</td>\n",
       "      <td>December 21, 1937</td>\n",
       "      <td>7.6</td>\n",
       "      <td>96</td>\n",
       "      <td>None</td>\n",
       "    </tr>\n",
       "    <tr>\n",
       "      <th>1</th>\n",
       "      <td>Pinocchio</td>\n",
       "      <td>[Ben Sharpsteen, Hamilton Luske, Bill Roberts,...</td>\n",
       "      <td>Walt Disney</td>\n",
       "      <td>[Cliff Edwards, Dickie Jones, Christian Rub, W...</td>\n",
       "      <td>[Leigh Harline, Paul J. Smith]</td>\n",
       "      <td>RKO Radio Pictures</td>\n",
       "      <td>88 minutes</td>\n",
       "      <td>United States</td>\n",
       "      <td>English</td>\n",
       "      <td>$2.6 million</td>\n",
       "      <td>$164 million</td>\n",
       "      <td>88.0</td>\n",
       "      <td>2600000.0</td>\n",
       "      <td>164000000.0</td>\n",
       "      <td>[February 7, 1940 ( Center Theatre ), February...</td>\n",
       "      <td>February 07, 1940</td>\n",
       "      <td>7.5</td>\n",
       "      <td>99</td>\n",
       "      <td>100%</td>\n",
       "    </tr>\n",
       "    <tr>\n",
       "      <th>2</th>\n",
       "      <td>Fantasia</td>\n",
       "      <td>[Samuel Armstrong, James Algar, Bill Roberts, ...</td>\n",
       "      <td>[Walt Disney, Ben Sharpsteen]</td>\n",
       "      <td>[Leopold Stokowski, Deems Taylor]</td>\n",
       "      <td>See program</td>\n",
       "      <td>RKO Radio Pictures</td>\n",
       "      <td>126 minutes</td>\n",
       "      <td>United States</td>\n",
       "      <td>English</td>\n",
       "      <td>$2.28 million</td>\n",
       "      <td>$76.4–$83.3 million (United States and Canada)</td>\n",
       "      <td>126.0</td>\n",
       "      <td>2280000.0</td>\n",
       "      <td>83300000.0</td>\n",
       "      <td>[November 13, 1940]</td>\n",
       "      <td>November 13, 1940</td>\n",
       "      <td>7.7</td>\n",
       "      <td>96</td>\n",
       "      <td>95%</td>\n",
       "    </tr>\n",
       "    <tr>\n",
       "      <th>3</th>\n",
       "      <td>The Reluctant Dragon</td>\n",
       "      <td>[Alfred Werker, (live action), Hamilton Luske,...</td>\n",
       "      <td>Walt Disney</td>\n",
       "      <td>[Robert Benchley, Frances Gifford, Buddy Peppe...</td>\n",
       "      <td>[Frank Churchill, Larry Morey]</td>\n",
       "      <td>RKO Radio Pictures</td>\n",
       "      <td>74 minutes</td>\n",
       "      <td>United States</td>\n",
       "      <td>English</td>\n",
       "      <td>$600,000</td>\n",
       "      <td>$960,000 (worldwide rentals)</td>\n",
       "      <td>74.0</td>\n",
       "      <td>600000.0</td>\n",
       "      <td>960000.0</td>\n",
       "      <td>[June 27, 1941]</td>\n",
       "      <td>June 27, 1941</td>\n",
       "      <td>6.8</td>\n",
       "      <td>N/A</td>\n",
       "      <td>100%</td>\n",
       "    </tr>\n",
       "    <tr>\n",
       "      <th>4</th>\n",
       "      <td>Dumbo</td>\n",
       "      <td>[Ben Sharpsteen, Norman Ferguson, Wilfred Jack...</td>\n",
       "      <td>Walt Disney</td>\n",
       "      <td>[Edward Brophy, Verna Felton, Cliff Edwards, H...</td>\n",
       "      <td>[Frank Churchill, Oliver Wallace]</td>\n",
       "      <td>RKO Radio Pictures</td>\n",
       "      <td>64 minutes</td>\n",
       "      <td>United States</td>\n",
       "      <td>English</td>\n",
       "      <td>$950,000</td>\n",
       "      <td>&gt;$1.3 million (est. United States/Canada renta...</td>\n",
       "      <td>64.0</td>\n",
       "      <td>950000.0</td>\n",
       "      <td>1300000.0</td>\n",
       "      <td>[October 23, 1941 (New York City), October 31,...</td>\n",
       "      <td>October 23, 1941</td>\n",
       "      <td>7.2</td>\n",
       "      <td>96</td>\n",
       "      <td>98%</td>\n",
       "    </tr>\n",
       "  </tbody>\n",
       "</table>\n",
       "</div>"
      ],
      "text/plain": [
       "                             Title  \\\n",
       "0  Snow White and the Seven Dwarfs   \n",
       "1                        Pinocchio   \n",
       "2                         Fantasia   \n",
       "3             The Reluctant Dragon   \n",
       "4                            Dumbo   \n",
       "\n",
       "                                         Directed by  \\\n",
       "0  [David Hand, Perce Pearce, William Cottrell, L...   \n",
       "1  [Ben Sharpsteen, Hamilton Luske, Bill Roberts,...   \n",
       "2  [Samuel Armstrong, James Algar, Bill Roberts, ...   \n",
       "3  [Alfred Werker, (live action), Hamilton Luske,...   \n",
       "4  [Ben Sharpsteen, Norman Ferguson, Wilfred Jack...   \n",
       "\n",
       "                     Produced by  \\\n",
       "0                    Walt Disney   \n",
       "1                    Walt Disney   \n",
       "2  [Walt Disney, Ben Sharpsteen]   \n",
       "3                    Walt Disney   \n",
       "4                    Walt Disney   \n",
       "\n",
       "                                            Starring  \\\n",
       "0  [Adriana Caselotti, Roy Atwell, Pinto Colvig, ...   \n",
       "1  [Cliff Edwards, Dickie Jones, Christian Rub, W...   \n",
       "2                  [Leopold Stokowski, Deems Taylor]   \n",
       "3  [Robert Benchley, Frances Gifford, Buddy Peppe...   \n",
       "4  [Edward Brophy, Verna Felton, Cliff Edwards, H...   \n",
       "\n",
       "                                       Music by      Distributed by  \\\n",
       "0  [Frank Churchill, Leigh Harline, Paul Smith]  RKO Radio Pictures   \n",
       "1                [Leigh Harline, Paul J. Smith]  RKO Radio Pictures   \n",
       "2                                   See program  RKO Radio Pictures   \n",
       "3                [Frank Churchill, Larry Morey]  RKO Radio Pictures   \n",
       "4             [Frank Churchill, Oliver Wallace]  RKO Radio Pictures   \n",
       "\n",
       "  Running time        Country Language         Budget  \\\n",
       "0   83 minutes  United States  English   $1.5 million   \n",
       "1   88 minutes  United States  English   $2.6 million   \n",
       "2  126 minutes  United States  English  $2.28 million   \n",
       "3   74 minutes  United States  English       $600,000   \n",
       "4   64 minutes  United States  English       $950,000   \n",
       "\n",
       "                                          Box office  Running time(int)  \\\n",
       "0                                       $418 million               83.0   \n",
       "1                                       $164 million               88.0   \n",
       "2     $76.4–$83.3 million (United States and Canada)              126.0   \n",
       "3                       $960,000 (worldwide rentals)               74.0   \n",
       "4  >$1.3 million (est. United States/Canada renta...               64.0   \n",
       "\n",
       "   Budget (float)  Box Office (float)  \\\n",
       "0       1500000.0         418000000.0   \n",
       "1       2600000.0         164000000.0   \n",
       "2       2280000.0          83300000.0   \n",
       "3        600000.0            960000.0   \n",
       "4        950000.0           1300000.0   \n",
       "\n",
       "                                        Release date Release date (datetime)  \\\n",
       "0  [December 21, 1937 ( Carthay Circle Theatre ),...       December 21, 1937   \n",
       "1  [February 7, 1940 ( Center Theatre ), February...       February 07, 1940   \n",
       "2                                [November 13, 1940]       November 13, 1940   \n",
       "3                                    [June 27, 1941]           June 27, 1941   \n",
       "4  [October 23, 1941 (New York City), October 31,...        October 23, 1941   \n",
       "\n",
       "  imdb Metascore Rotten_Tomato  \n",
       "0  7.6        96          None  \n",
       "1  7.5        99          100%  \n",
       "2  7.7        96           95%  \n",
       "3  6.8       N/A          100%  \n",
       "4  7.2        96           98%  "
      ]
     },
     "execution_count": 65,
     "metadata": {},
     "output_type": "execute_result"
    }
   ],
   "source": [
    "df.shape"
   ]
  },
  {
   "cell_type": "markdown",
   "id": "7be6acd7",
   "metadata": {},
   "source": [
    "### Task 6: Save final data as CSV/Pickle"
   ]
  },
  {
   "cell_type": "markdown",
   "id": "0187de9f",
   "metadata": {},
   "source": [
    "Saves Dataframe as CSV"
   ]
  },
  {
   "cell_type": "code",
   "execution_count": 66,
   "id": "c310fcae",
   "metadata": {},
   "outputs": [],
   "source": [
    "df.to_csv(\"disney_data_final.csv\")"
   ]
  },
  {
   "cell_type": "markdown",
   "id": "0bf9dd9f",
   "metadata": {},
   "source": [
    "Loads Dataframe from CSV"
   ]
  },
  {
   "cell_type": "code",
   "execution_count": 33,
   "id": "27c9ade9",
   "metadata": {},
   "outputs": [],
   "source": [
    "import pandas as pd\n",
    "df = pd.read_csv('disney_data_final/disney_data_final.csv')"
   ]
  },
  {
   "cell_type": "markdown",
   "id": "4e80fcf6",
   "metadata": {},
   "source": [
    "Convert df into dictionary"
   ]
  },
  {
   "cell_type": "code",
   "execution_count": 72,
   "id": "5e461394",
   "metadata": {},
   "outputs": [],
   "source": [
    "reverted = df.to_dict(orient='records')"
   ]
  },
  {
   "cell_type": "code",
   "execution_count": 73,
   "id": "643df88c",
   "metadata": {},
   "outputs": [],
   "source": [
    "save_data_pickle(\"disney_data_final.pickle\", reverted)"
   ]
  }
 ],
 "metadata": {
  "kernelspec": {
   "display_name": "Python 3 (ipykernel)",
   "language": "python",
   "name": "python3"
  },
  "language_info": {
   "codemirror_mode": {
    "name": "ipython",
    "version": 3
   },
   "file_extension": ".py",
   "mimetype": "text/x-python",
   "name": "python",
   "nbconvert_exporter": "python",
   "pygments_lexer": "ipython3",
   "version": "3.9.13"
  }
 },
 "nbformat": 4,
 "nbformat_minor": 5
}
